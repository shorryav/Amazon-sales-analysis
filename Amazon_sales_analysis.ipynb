{
  "nbformat": 4,
  "nbformat_minor": 0,
  "metadata": {
    "colab": {
      "provenance": []
    },
    "kernelspec": {
      "name": "python3",
      "display_name": "Python 3"
    },
    "language_info": {
      "name": "python"
    }
  },
  "cells": [
    {
      "cell_type": "markdown",
      "source": [
        "**Project Title:**  **Analyzing Amazon Sales data**\n",
        "\n",
        "* To analyze the Sales-trend -> month-wise, year-wise, yearly_month-wise\n",
        "* Find key metrics and factors and show the meaningful relationships between\n",
        "attributes.\n"
      ],
      "metadata": {
        "id": "gPI84vtpkeCT"
      }
    },
    {
      "cell_type": "code",
      "source": [
        "import numpy as np\n",
        "import pandas as pd\n",
        "import seaborn as sns\n",
        "import matplotlib.pyplot as plt"
      ],
      "metadata": {
        "id": "EPnc13Giksb1"
      },
      "execution_count": 1,
      "outputs": []
    },
    {
      "cell_type": "code",
      "source": [
        "data = pd.read_csv('/content/Amazon Sales data.csv')"
      ],
      "metadata": {
        "id": "43EORmaAll7c"
      },
      "execution_count": 2,
      "outputs": []
    },
    {
      "cell_type": "code",
      "source": [
        "data.head(10)"
      ],
      "metadata": {
        "colab": {
          "base_uri": "https://localhost:8080/",
          "height": 467
        },
        "id": "7eUJeMh9lrFK",
        "outputId": "de1f2961-4774-4f0f-9218-d1ec4e1f8b0c"
      },
      "execution_count": 3,
      "outputs": [
        {
          "output_type": "execute_result",
          "data": {
            "text/plain": [
              "                              Region                Country        Item Type  \\\n",
              "0              Australia and Oceania                 Tuvalu        Baby Food   \n",
              "1  Central America and the Caribbean                Grenada           Cereal   \n",
              "2                             Europe                 Russia  Office Supplies   \n",
              "3                 Sub-Saharan Africa  Sao Tome and Principe           Fruits   \n",
              "4                 Sub-Saharan Africa                 Rwanda  Office Supplies   \n",
              "5              Australia and Oceania        Solomon Islands        Baby Food   \n",
              "6                 Sub-Saharan Africa                 Angola        Household   \n",
              "7                 Sub-Saharan Africa           Burkina Faso       Vegetables   \n",
              "8                 Sub-Saharan Africa  Republic of the Congo    Personal Care   \n",
              "9                 Sub-Saharan Africa                Senegal           Cereal   \n",
              "\n",
              "  Sales Channel Order Priority Order Date   Order ID  Ship Date  Units Sold  \\\n",
              "0       Offline              H  5/28/2010  669165933  6/27/2010        9925   \n",
              "1        Online              C  8/22/2012  963881480  9/15/2012        2804   \n",
              "2       Offline              L   5/2/2014  341417157   5/8/2014        1779   \n",
              "3        Online              C  6/20/2014  514321792   7/5/2014        8102   \n",
              "4       Offline              L   2/1/2013  115456712   2/6/2013        5062   \n",
              "5        Online              C   2/4/2015  547995746  2/21/2015        2974   \n",
              "6       Offline              M  4/23/2011  135425221  4/27/2011        4187   \n",
              "7        Online              H  7/17/2012  871543967  7/27/2012        8082   \n",
              "8       Offline              M  7/14/2015  770463311  8/25/2015        6070   \n",
              "9        Online              H  4/18/2014  616607081  5/30/2014        6593   \n",
              "\n",
              "   Unit Price  Unit Cost  Total Revenue  Total Cost  Total Profit  \n",
              "0      255.28     159.42     2533654.00  1582243.50     951410.50  \n",
              "1      205.70     117.11      576782.80   328376.44     248406.36  \n",
              "2      651.21     524.96     1158502.59   933903.84     224598.75  \n",
              "3        9.33       6.92       75591.66    56065.84      19525.82  \n",
              "4      651.21     524.96     3296425.02  2657347.52     639077.50  \n",
              "5      255.28     159.42      759202.72   474115.08     285087.64  \n",
              "6      668.27     502.54     2798046.49  2104134.98     693911.51  \n",
              "7      154.06      90.93     1245112.92   734896.26     510216.66  \n",
              "8       81.73      56.67      496101.10   343986.90     152114.20  \n",
              "9      205.70     117.11     1356180.10   772106.23     584073.87  "
            ],
            "text/html": [
              "\n",
              "  <div id=\"df-9f2fa269-8f0f-4ca0-b775-8f4124304527\" class=\"colab-df-container\">\n",
              "    <div>\n",
              "<style scoped>\n",
              "    .dataframe tbody tr th:only-of-type {\n",
              "        vertical-align: middle;\n",
              "    }\n",
              "\n",
              "    .dataframe tbody tr th {\n",
              "        vertical-align: top;\n",
              "    }\n",
              "\n",
              "    .dataframe thead th {\n",
              "        text-align: right;\n",
              "    }\n",
              "</style>\n",
              "<table border=\"1\" class=\"dataframe\">\n",
              "  <thead>\n",
              "    <tr style=\"text-align: right;\">\n",
              "      <th></th>\n",
              "      <th>Region</th>\n",
              "      <th>Country</th>\n",
              "      <th>Item Type</th>\n",
              "      <th>Sales Channel</th>\n",
              "      <th>Order Priority</th>\n",
              "      <th>Order Date</th>\n",
              "      <th>Order ID</th>\n",
              "      <th>Ship Date</th>\n",
              "      <th>Units Sold</th>\n",
              "      <th>Unit Price</th>\n",
              "      <th>Unit Cost</th>\n",
              "      <th>Total Revenue</th>\n",
              "      <th>Total Cost</th>\n",
              "      <th>Total Profit</th>\n",
              "    </tr>\n",
              "  </thead>\n",
              "  <tbody>\n",
              "    <tr>\n",
              "      <th>0</th>\n",
              "      <td>Australia and Oceania</td>\n",
              "      <td>Tuvalu</td>\n",
              "      <td>Baby Food</td>\n",
              "      <td>Offline</td>\n",
              "      <td>H</td>\n",
              "      <td>5/28/2010</td>\n",
              "      <td>669165933</td>\n",
              "      <td>6/27/2010</td>\n",
              "      <td>9925</td>\n",
              "      <td>255.28</td>\n",
              "      <td>159.42</td>\n",
              "      <td>2533654.00</td>\n",
              "      <td>1582243.50</td>\n",
              "      <td>951410.50</td>\n",
              "    </tr>\n",
              "    <tr>\n",
              "      <th>1</th>\n",
              "      <td>Central America and the Caribbean</td>\n",
              "      <td>Grenada</td>\n",
              "      <td>Cereal</td>\n",
              "      <td>Online</td>\n",
              "      <td>C</td>\n",
              "      <td>8/22/2012</td>\n",
              "      <td>963881480</td>\n",
              "      <td>9/15/2012</td>\n",
              "      <td>2804</td>\n",
              "      <td>205.70</td>\n",
              "      <td>117.11</td>\n",
              "      <td>576782.80</td>\n",
              "      <td>328376.44</td>\n",
              "      <td>248406.36</td>\n",
              "    </tr>\n",
              "    <tr>\n",
              "      <th>2</th>\n",
              "      <td>Europe</td>\n",
              "      <td>Russia</td>\n",
              "      <td>Office Supplies</td>\n",
              "      <td>Offline</td>\n",
              "      <td>L</td>\n",
              "      <td>5/2/2014</td>\n",
              "      <td>341417157</td>\n",
              "      <td>5/8/2014</td>\n",
              "      <td>1779</td>\n",
              "      <td>651.21</td>\n",
              "      <td>524.96</td>\n",
              "      <td>1158502.59</td>\n",
              "      <td>933903.84</td>\n",
              "      <td>224598.75</td>\n",
              "    </tr>\n",
              "    <tr>\n",
              "      <th>3</th>\n",
              "      <td>Sub-Saharan Africa</td>\n",
              "      <td>Sao Tome and Principe</td>\n",
              "      <td>Fruits</td>\n",
              "      <td>Online</td>\n",
              "      <td>C</td>\n",
              "      <td>6/20/2014</td>\n",
              "      <td>514321792</td>\n",
              "      <td>7/5/2014</td>\n",
              "      <td>8102</td>\n",
              "      <td>9.33</td>\n",
              "      <td>6.92</td>\n",
              "      <td>75591.66</td>\n",
              "      <td>56065.84</td>\n",
              "      <td>19525.82</td>\n",
              "    </tr>\n",
              "    <tr>\n",
              "      <th>4</th>\n",
              "      <td>Sub-Saharan Africa</td>\n",
              "      <td>Rwanda</td>\n",
              "      <td>Office Supplies</td>\n",
              "      <td>Offline</td>\n",
              "      <td>L</td>\n",
              "      <td>2/1/2013</td>\n",
              "      <td>115456712</td>\n",
              "      <td>2/6/2013</td>\n",
              "      <td>5062</td>\n",
              "      <td>651.21</td>\n",
              "      <td>524.96</td>\n",
              "      <td>3296425.02</td>\n",
              "      <td>2657347.52</td>\n",
              "      <td>639077.50</td>\n",
              "    </tr>\n",
              "    <tr>\n",
              "      <th>5</th>\n",
              "      <td>Australia and Oceania</td>\n",
              "      <td>Solomon Islands</td>\n",
              "      <td>Baby Food</td>\n",
              "      <td>Online</td>\n",
              "      <td>C</td>\n",
              "      <td>2/4/2015</td>\n",
              "      <td>547995746</td>\n",
              "      <td>2/21/2015</td>\n",
              "      <td>2974</td>\n",
              "      <td>255.28</td>\n",
              "      <td>159.42</td>\n",
              "      <td>759202.72</td>\n",
              "      <td>474115.08</td>\n",
              "      <td>285087.64</td>\n",
              "    </tr>\n",
              "    <tr>\n",
              "      <th>6</th>\n",
              "      <td>Sub-Saharan Africa</td>\n",
              "      <td>Angola</td>\n",
              "      <td>Household</td>\n",
              "      <td>Offline</td>\n",
              "      <td>M</td>\n",
              "      <td>4/23/2011</td>\n",
              "      <td>135425221</td>\n",
              "      <td>4/27/2011</td>\n",
              "      <td>4187</td>\n",
              "      <td>668.27</td>\n",
              "      <td>502.54</td>\n",
              "      <td>2798046.49</td>\n",
              "      <td>2104134.98</td>\n",
              "      <td>693911.51</td>\n",
              "    </tr>\n",
              "    <tr>\n",
              "      <th>7</th>\n",
              "      <td>Sub-Saharan Africa</td>\n",
              "      <td>Burkina Faso</td>\n",
              "      <td>Vegetables</td>\n",
              "      <td>Online</td>\n",
              "      <td>H</td>\n",
              "      <td>7/17/2012</td>\n",
              "      <td>871543967</td>\n",
              "      <td>7/27/2012</td>\n",
              "      <td>8082</td>\n",
              "      <td>154.06</td>\n",
              "      <td>90.93</td>\n",
              "      <td>1245112.92</td>\n",
              "      <td>734896.26</td>\n",
              "      <td>510216.66</td>\n",
              "    </tr>\n",
              "    <tr>\n",
              "      <th>8</th>\n",
              "      <td>Sub-Saharan Africa</td>\n",
              "      <td>Republic of the Congo</td>\n",
              "      <td>Personal Care</td>\n",
              "      <td>Offline</td>\n",
              "      <td>M</td>\n",
              "      <td>7/14/2015</td>\n",
              "      <td>770463311</td>\n",
              "      <td>8/25/2015</td>\n",
              "      <td>6070</td>\n",
              "      <td>81.73</td>\n",
              "      <td>56.67</td>\n",
              "      <td>496101.10</td>\n",
              "      <td>343986.90</td>\n",
              "      <td>152114.20</td>\n",
              "    </tr>\n",
              "    <tr>\n",
              "      <th>9</th>\n",
              "      <td>Sub-Saharan Africa</td>\n",
              "      <td>Senegal</td>\n",
              "      <td>Cereal</td>\n",
              "      <td>Online</td>\n",
              "      <td>H</td>\n",
              "      <td>4/18/2014</td>\n",
              "      <td>616607081</td>\n",
              "      <td>5/30/2014</td>\n",
              "      <td>6593</td>\n",
              "      <td>205.70</td>\n",
              "      <td>117.11</td>\n",
              "      <td>1356180.10</td>\n",
              "      <td>772106.23</td>\n",
              "      <td>584073.87</td>\n",
              "    </tr>\n",
              "  </tbody>\n",
              "</table>\n",
              "</div>\n",
              "    <div class=\"colab-df-buttons\">\n",
              "\n",
              "  <div class=\"colab-df-container\">\n",
              "    <button class=\"colab-df-convert\" onclick=\"convertToInteractive('df-9f2fa269-8f0f-4ca0-b775-8f4124304527')\"\n",
              "            title=\"Convert this dataframe to an interactive table.\"\n",
              "            style=\"display:none;\">\n",
              "\n",
              "  <svg xmlns=\"http://www.w3.org/2000/svg\" height=\"24px\" viewBox=\"0 -960 960 960\">\n",
              "    <path d=\"M120-120v-720h720v720H120Zm60-500h600v-160H180v160Zm220 220h160v-160H400v160Zm0 220h160v-160H400v160ZM180-400h160v-160H180v160Zm440 0h160v-160H620v160ZM180-180h160v-160H180v160Zm440 0h160v-160H620v160Z\"/>\n",
              "  </svg>\n",
              "    </button>\n",
              "\n",
              "  <style>\n",
              "    .colab-df-container {\n",
              "      display:flex;\n",
              "      gap: 12px;\n",
              "    }\n",
              "\n",
              "    .colab-df-convert {\n",
              "      background-color: #E8F0FE;\n",
              "      border: none;\n",
              "      border-radius: 50%;\n",
              "      cursor: pointer;\n",
              "      display: none;\n",
              "      fill: #1967D2;\n",
              "      height: 32px;\n",
              "      padding: 0 0 0 0;\n",
              "      width: 32px;\n",
              "    }\n",
              "\n",
              "    .colab-df-convert:hover {\n",
              "      background-color: #E2EBFA;\n",
              "      box-shadow: 0px 1px 2px rgba(60, 64, 67, 0.3), 0px 1px 3px 1px rgba(60, 64, 67, 0.15);\n",
              "      fill: #174EA6;\n",
              "    }\n",
              "\n",
              "    .colab-df-buttons div {\n",
              "      margin-bottom: 4px;\n",
              "    }\n",
              "\n",
              "    [theme=dark] .colab-df-convert {\n",
              "      background-color: #3B4455;\n",
              "      fill: #D2E3FC;\n",
              "    }\n",
              "\n",
              "    [theme=dark] .colab-df-convert:hover {\n",
              "      background-color: #434B5C;\n",
              "      box-shadow: 0px 1px 3px 1px rgba(0, 0, 0, 0.15);\n",
              "      filter: drop-shadow(0px 1px 2px rgba(0, 0, 0, 0.3));\n",
              "      fill: #FFFFFF;\n",
              "    }\n",
              "  </style>\n",
              "\n",
              "    <script>\n",
              "      const buttonEl =\n",
              "        document.querySelector('#df-9f2fa269-8f0f-4ca0-b775-8f4124304527 button.colab-df-convert');\n",
              "      buttonEl.style.display =\n",
              "        google.colab.kernel.accessAllowed ? 'block' : 'none';\n",
              "\n",
              "      async function convertToInteractive(key) {\n",
              "        const element = document.querySelector('#df-9f2fa269-8f0f-4ca0-b775-8f4124304527');\n",
              "        const dataTable =\n",
              "          await google.colab.kernel.invokeFunction('convertToInteractive',\n",
              "                                                    [key], {});\n",
              "        if (!dataTable) return;\n",
              "\n",
              "        const docLinkHtml = 'Like what you see? Visit the ' +\n",
              "          '<a target=\"_blank\" href=https://colab.research.google.com/notebooks/data_table.ipynb>data table notebook</a>'\n",
              "          + ' to learn more about interactive tables.';\n",
              "        element.innerHTML = '';\n",
              "        dataTable['output_type'] = 'display_data';\n",
              "        await google.colab.output.renderOutput(dataTable, element);\n",
              "        const docLink = document.createElement('div');\n",
              "        docLink.innerHTML = docLinkHtml;\n",
              "        element.appendChild(docLink);\n",
              "      }\n",
              "    </script>\n",
              "  </div>\n",
              "\n",
              "\n",
              "<div id=\"df-3a981167-bd36-486f-ba0d-dd508c2fad3f\">\n",
              "  <button class=\"colab-df-quickchart\" onclick=\"quickchart('df-3a981167-bd36-486f-ba0d-dd508c2fad3f')\"\n",
              "            title=\"Suggest charts\"\n",
              "            style=\"display:none;\">\n",
              "\n",
              "<svg xmlns=\"http://www.w3.org/2000/svg\" height=\"24px\"viewBox=\"0 0 24 24\"\n",
              "     width=\"24px\">\n",
              "    <g>\n",
              "        <path d=\"M19 3H5c-1.1 0-2 .9-2 2v14c0 1.1.9 2 2 2h14c1.1 0 2-.9 2-2V5c0-1.1-.9-2-2-2zM9 17H7v-7h2v7zm4 0h-2V7h2v10zm4 0h-2v-4h2v4z\"/>\n",
              "    </g>\n",
              "</svg>\n",
              "  </button>\n",
              "\n",
              "<style>\n",
              "  .colab-df-quickchart {\n",
              "      --bg-color: #E8F0FE;\n",
              "      --fill-color: #1967D2;\n",
              "      --hover-bg-color: #E2EBFA;\n",
              "      --hover-fill-color: #174EA6;\n",
              "      --disabled-fill-color: #AAA;\n",
              "      --disabled-bg-color: #DDD;\n",
              "  }\n",
              "\n",
              "  [theme=dark] .colab-df-quickchart {\n",
              "      --bg-color: #3B4455;\n",
              "      --fill-color: #D2E3FC;\n",
              "      --hover-bg-color: #434B5C;\n",
              "      --hover-fill-color: #FFFFFF;\n",
              "      --disabled-bg-color: #3B4455;\n",
              "      --disabled-fill-color: #666;\n",
              "  }\n",
              "\n",
              "  .colab-df-quickchart {\n",
              "    background-color: var(--bg-color);\n",
              "    border: none;\n",
              "    border-radius: 50%;\n",
              "    cursor: pointer;\n",
              "    display: none;\n",
              "    fill: var(--fill-color);\n",
              "    height: 32px;\n",
              "    padding: 0;\n",
              "    width: 32px;\n",
              "  }\n",
              "\n",
              "  .colab-df-quickchart:hover {\n",
              "    background-color: var(--hover-bg-color);\n",
              "    box-shadow: 0 1px 2px rgba(60, 64, 67, 0.3), 0 1px 3px 1px rgba(60, 64, 67, 0.15);\n",
              "    fill: var(--button-hover-fill-color);\n",
              "  }\n",
              "\n",
              "  .colab-df-quickchart-complete:disabled,\n",
              "  .colab-df-quickchart-complete:disabled:hover {\n",
              "    background-color: var(--disabled-bg-color);\n",
              "    fill: var(--disabled-fill-color);\n",
              "    box-shadow: none;\n",
              "  }\n",
              "\n",
              "  .colab-df-spinner {\n",
              "    border: 2px solid var(--fill-color);\n",
              "    border-color: transparent;\n",
              "    border-bottom-color: var(--fill-color);\n",
              "    animation:\n",
              "      spin 1s steps(1) infinite;\n",
              "  }\n",
              "\n",
              "  @keyframes spin {\n",
              "    0% {\n",
              "      border-color: transparent;\n",
              "      border-bottom-color: var(--fill-color);\n",
              "      border-left-color: var(--fill-color);\n",
              "    }\n",
              "    20% {\n",
              "      border-color: transparent;\n",
              "      border-left-color: var(--fill-color);\n",
              "      border-top-color: var(--fill-color);\n",
              "    }\n",
              "    30% {\n",
              "      border-color: transparent;\n",
              "      border-left-color: var(--fill-color);\n",
              "      border-top-color: var(--fill-color);\n",
              "      border-right-color: var(--fill-color);\n",
              "    }\n",
              "    40% {\n",
              "      border-color: transparent;\n",
              "      border-right-color: var(--fill-color);\n",
              "      border-top-color: var(--fill-color);\n",
              "    }\n",
              "    60% {\n",
              "      border-color: transparent;\n",
              "      border-right-color: var(--fill-color);\n",
              "    }\n",
              "    80% {\n",
              "      border-color: transparent;\n",
              "      border-right-color: var(--fill-color);\n",
              "      border-bottom-color: var(--fill-color);\n",
              "    }\n",
              "    90% {\n",
              "      border-color: transparent;\n",
              "      border-bottom-color: var(--fill-color);\n",
              "    }\n",
              "  }\n",
              "</style>\n",
              "\n",
              "  <script>\n",
              "    async function quickchart(key) {\n",
              "      const quickchartButtonEl =\n",
              "        document.querySelector('#' + key + ' button');\n",
              "      quickchartButtonEl.disabled = true;  // To prevent multiple clicks.\n",
              "      quickchartButtonEl.classList.add('colab-df-spinner');\n",
              "      try {\n",
              "        const charts = await google.colab.kernel.invokeFunction(\n",
              "            'suggestCharts', [key], {});\n",
              "      } catch (error) {\n",
              "        console.error('Error during call to suggestCharts:', error);\n",
              "      }\n",
              "      quickchartButtonEl.classList.remove('colab-df-spinner');\n",
              "      quickchartButtonEl.classList.add('colab-df-quickchart-complete');\n",
              "    }\n",
              "    (() => {\n",
              "      let quickchartButtonEl =\n",
              "        document.querySelector('#df-3a981167-bd36-486f-ba0d-dd508c2fad3f button');\n",
              "      quickchartButtonEl.style.display =\n",
              "        google.colab.kernel.accessAllowed ? 'block' : 'none';\n",
              "    })();\n",
              "  </script>\n",
              "</div>\n",
              "\n",
              "    </div>\n",
              "  </div>\n"
            ],
            "application/vnd.google.colaboratory.intrinsic+json": {
              "type": "dataframe",
              "variable_name": "data",
              "summary": "{\n  \"name\": \"data\",\n  \"rows\": 100,\n  \"fields\": [\n    {\n      \"column\": \"Region\",\n      \"properties\": {\n        \"dtype\": \"category\",\n        \"num_unique_values\": 7,\n        \"samples\": [\n          \"Australia and Oceania\",\n          \"Central America and the Caribbean\",\n          \"Middle East and North Africa\"\n        ],\n        \"semantic_type\": \"\",\n        \"description\": \"\"\n      }\n    },\n    {\n      \"column\": \"Country\",\n      \"properties\": {\n        \"dtype\": \"string\",\n        \"num_unique_values\": 76,\n        \"samples\": [\n          \"Rwanda\",\n          \"Brunei\",\n          \"Kyrgyzstan\"\n        ],\n        \"semantic_type\": \"\",\n        \"description\": \"\"\n      }\n    },\n    {\n      \"column\": \"Item Type\",\n      \"properties\": {\n        \"dtype\": \"category\",\n        \"num_unique_values\": 12,\n        \"samples\": [\n          \"Meat\",\n          \"Beverages\",\n          \"Baby Food\"\n        ],\n        \"semantic_type\": \"\",\n        \"description\": \"\"\n      }\n    },\n    {\n      \"column\": \"Sales Channel\",\n      \"properties\": {\n        \"dtype\": \"category\",\n        \"num_unique_values\": 2,\n        \"samples\": [\n          \"Online\",\n          \"Offline\"\n        ],\n        \"semantic_type\": \"\",\n        \"description\": \"\"\n      }\n    },\n    {\n      \"column\": \"Order Priority\",\n      \"properties\": {\n        \"dtype\": \"category\",\n        \"num_unique_values\": 4,\n        \"samples\": [\n          \"C\",\n          \"M\"\n        ],\n        \"semantic_type\": \"\",\n        \"description\": \"\"\n      }\n    },\n    {\n      \"column\": \"Order Date\",\n      \"properties\": {\n        \"dtype\": \"object\",\n        \"num_unique_values\": 100,\n        \"samples\": [\n          \"1/4/2011\",\n          \"11/26/2011\"\n        ],\n        \"semantic_type\": \"\",\n        \"description\": \"\"\n      }\n    },\n    {\n      \"column\": \"Order ID\",\n      \"properties\": {\n        \"dtype\": \"number\",\n        \"std\": 260615257,\n        \"min\": 114606559,\n        \"max\": 994022214,\n        \"num_unique_values\": 100,\n        \"samples\": [\n          122583663,\n          441888415\n        ],\n        \"semantic_type\": \"\",\n        \"description\": \"\"\n      }\n    },\n    {\n      \"column\": \"Ship Date\",\n      \"properties\": {\n        \"dtype\": \"object\",\n        \"num_unique_values\": 99,\n        \"samples\": [\n          \"11/15/2011\",\n          \"3/28/2017\"\n        ],\n        \"semantic_type\": \"\",\n        \"description\": \"\"\n      }\n    },\n    {\n      \"column\": \"Units Sold\",\n      \"properties\": {\n        \"dtype\": \"number\",\n        \"std\": 2794,\n        \"min\": 124,\n        \"max\": 9925,\n        \"num_unique_values\": 99,\n        \"samples\": [\n          5518,\n          3015\n        ],\n        \"semantic_type\": \"\",\n        \"description\": \"\"\n      }\n    },\n    {\n      \"column\": \"Unit Price\",\n      \"properties\": {\n        \"dtype\": \"number\",\n        \"std\": 235.59224058433134,\n        \"min\": 9.33,\n        \"max\": 668.27,\n        \"num_unique_values\": 12,\n        \"samples\": [\n          421.89,\n          47.45\n        ],\n        \"semantic_type\": \"\",\n        \"description\": \"\"\n      }\n    },\n    {\n      \"column\": \"Unit Cost\",\n      \"properties\": {\n        \"dtype\": \"number\",\n        \"std\": 188.2081812485549,\n        \"min\": 6.92,\n        \"max\": 524.96,\n        \"num_unique_values\": 12,\n        \"samples\": [\n          364.69,\n          31.79\n        ],\n        \"semantic_type\": \"\",\n        \"description\": \"\"\n      }\n    },\n    {\n      \"column\": \"Total Revenue\",\n      \"properties\": {\n        \"dtype\": \"number\",\n        \"std\": 1460028.7068235008,\n        \"min\": 4870.26,\n        \"max\": 5997054.98,\n        \"num_unique_values\": 100,\n        \"samples\": [\n          623289.3,\n          2251232.97\n        ],\n        \"semantic_type\": \"\",\n        \"description\": \"\"\n      }\n    },\n    {\n      \"column\": \"Total Cost\",\n      \"properties\": {\n        \"dtype\": \"number\",\n        \"std\": 1083938.2521883622,\n        \"min\": 3612.24,\n        \"max\": 4509793.96,\n        \"num_unique_values\": 100,\n        \"samples\": [\n          398042.4,\n          1814786.72\n        ],\n        \"semantic_type\": \"\",\n        \"description\": \"\"\n      }\n    },\n    {\n      \"column\": \"Total Profit\",\n      \"properties\": {\n        \"dtype\": \"number\",\n        \"std\": 438537.90705963754,\n        \"min\": 1258.02,\n        \"max\": 1719922.04,\n        \"num_unique_values\": 100,\n        \"samples\": [\n          225246.9,\n          436446.25\n        ],\n        \"semantic_type\": \"\",\n        \"description\": \"\"\n      }\n    }\n  ]\n}"
            }
          },
          "metadata": {},
          "execution_count": 3
        }
      ]
    },
    {
      "cell_type": "code",
      "source": [
        "data.shape"
      ],
      "metadata": {
        "colab": {
          "base_uri": "https://localhost:8080/"
        },
        "id": "1B0lPN22l7R6",
        "outputId": "a94d24d7-85be-4c51-962b-03a56f42ae01"
      },
      "execution_count": 4,
      "outputs": [
        {
          "output_type": "execute_result",
          "data": {
            "text/plain": [
              "(100, 14)"
            ]
          },
          "metadata": {},
          "execution_count": 4
        }
      ]
    },
    {
      "cell_type": "code",
      "source": [
        "data.isnull().sum()"
      ],
      "metadata": {
        "id": "043Kf606mDR5",
        "colab": {
          "base_uri": "https://localhost:8080/"
        },
        "outputId": "e00991e1-d74f-476e-f025-7f0c24eebb63"
      },
      "execution_count": 5,
      "outputs": [
        {
          "output_type": "execute_result",
          "data": {
            "text/plain": [
              "Region            0\n",
              "Country           0\n",
              "Item Type         0\n",
              "Sales Channel     0\n",
              "Order Priority    0\n",
              "Order Date        0\n",
              "Order ID          0\n",
              "Ship Date         0\n",
              "Units Sold        0\n",
              "Unit Price        0\n",
              "Unit Cost         0\n",
              "Total Revenue     0\n",
              "Total Cost        0\n",
              "Total Profit      0\n",
              "dtype: int64"
            ]
          },
          "metadata": {},
          "execution_count": 5
        }
      ]
    },
    {
      "cell_type": "markdown",
      "source": [
        "# TO PERFORM MONTH WISE, YEAR WISE, YEARLY_MONTH WISE SALES TREND"
      ],
      "metadata": {
        "id": "mtvsKldj3qsb"
      }
    },
    {
      "cell_type": "code",
      "source": [
        "#Extract date from data\n",
        "data['Order Date'] = pd.to_datetime(data['Order Date'])\n",
        "data['Order Date']"
      ],
      "metadata": {
        "colab": {
          "base_uri": "https://localhost:8080/"
        },
        "id": "qw53X__xn4eB",
        "outputId": "3e9337b1-0d3c-498f-a7af-7a0043d47b1f"
      },
      "execution_count": null,
      "outputs": [
        {
          "output_type": "execute_result",
          "data": {
            "text/plain": [
              "0    2010-05-28\n",
              "1    2012-08-22\n",
              "2    2014-05-02\n",
              "3    2014-06-20\n",
              "4    2013-02-01\n",
              "        ...    \n",
              "95   2011-07-26\n",
              "96   2011-11-11\n",
              "97   2016-06-01\n",
              "98   2015-07-30\n",
              "99   2012-02-10\n",
              "Name: Order Date, Length: 100, dtype: datetime64[ns]"
            ]
          },
          "metadata": {},
          "execution_count": 31
        }
      ]
    },
    {
      "cell_type": "code",
      "source": [
        "# To Extract year and month\n",
        "data['Year'] = data['Order Date'].dt.year\n",
        "data['Month'] = data['Order Date'].dt.month"
      ],
      "metadata": {
        "id": "LNHmvC_foMle"
      },
      "execution_count": null,
      "outputs": []
    },
    {
      "cell_type": "code",
      "source": [
        "data['Year']"
      ],
      "metadata": {
        "colab": {
          "base_uri": "https://localhost:8080/"
        },
        "id": "VbRtVwMyoTsw",
        "outputId": "7d24a6ab-4c1c-45c0-9cb9-95e18d290635"
      },
      "execution_count": null,
      "outputs": [
        {
          "output_type": "execute_result",
          "data": {
            "text/plain": [
              "0     2010\n",
              "1     2012\n",
              "2     2014\n",
              "3     2014\n",
              "4     2013\n",
              "      ... \n",
              "95    2011\n",
              "96    2011\n",
              "97    2016\n",
              "98    2015\n",
              "99    2012\n",
              "Name: Year, Length: 100, dtype: int64"
            ]
          },
          "metadata": {},
          "execution_count": 33
        }
      ]
    },
    {
      "cell_type": "code",
      "source": [
        "data['Month']"
      ],
      "metadata": {
        "colab": {
          "base_uri": "https://localhost:8080/"
        },
        "id": "FcwxeG4z4Vro",
        "outputId": "9a249c4b-f5fd-4c0c-829f-90aea360a680"
      },
      "execution_count": null,
      "outputs": [
        {
          "output_type": "execute_result",
          "data": {
            "text/plain": [
              "0      5\n",
              "1      8\n",
              "2      5\n",
              "3      6\n",
              "4      2\n",
              "      ..\n",
              "95     7\n",
              "96    11\n",
              "97     6\n",
              "98     7\n",
              "99     2\n",
              "Name: Month, Length: 100, dtype: int64"
            ]
          },
          "metadata": {},
          "execution_count": 34
        }
      ]
    },
    {
      "cell_type": "code",
      "source": [
        "data['Total Sales'] = data['Units Sold'] * data['Unit Price']\n"
      ],
      "metadata": {
        "id": "YYW26gXk5FXH"
      },
      "execution_count": null,
      "outputs": []
    },
    {
      "cell_type": "code",
      "source": [
        "data.head()"
      ],
      "metadata": {
        "colab": {
          "base_uri": "https://localhost:8080/",
          "height": 293
        },
        "id": "h4KYqe2w5biE",
        "outputId": "45eef1a1-3626-41f4-b7e2-8cc3b041f840"
      },
      "execution_count": 6,
      "outputs": [
        {
          "output_type": "execute_result",
          "data": {
            "text/plain": [
              "                              Region                Country        Item Type  \\\n",
              "0              Australia and Oceania                 Tuvalu        Baby Food   \n",
              "1  Central America and the Caribbean                Grenada           Cereal   \n",
              "2                             Europe                 Russia  Office Supplies   \n",
              "3                 Sub-Saharan Africa  Sao Tome and Principe           Fruits   \n",
              "4                 Sub-Saharan Africa                 Rwanda  Office Supplies   \n",
              "\n",
              "  Sales Channel Order Priority Order Date   Order ID  Ship Date  Units Sold  \\\n",
              "0       Offline              H  5/28/2010  669165933  6/27/2010        9925   \n",
              "1        Online              C  8/22/2012  963881480  9/15/2012        2804   \n",
              "2       Offline              L   5/2/2014  341417157   5/8/2014        1779   \n",
              "3        Online              C  6/20/2014  514321792   7/5/2014        8102   \n",
              "4       Offline              L   2/1/2013  115456712   2/6/2013        5062   \n",
              "\n",
              "   Unit Price  Unit Cost  Total Revenue  Total Cost  Total Profit  \n",
              "0      255.28     159.42     2533654.00  1582243.50     951410.50  \n",
              "1      205.70     117.11      576782.80   328376.44     248406.36  \n",
              "2      651.21     524.96     1158502.59   933903.84     224598.75  \n",
              "3        9.33       6.92       75591.66    56065.84      19525.82  \n",
              "4      651.21     524.96     3296425.02  2657347.52     639077.50  "
            ],
            "text/html": [
              "\n",
              "  <div id=\"df-9017e779-0e74-4d49-a80d-9df6fda33251\" class=\"colab-df-container\">\n",
              "    <div>\n",
              "<style scoped>\n",
              "    .dataframe tbody tr th:only-of-type {\n",
              "        vertical-align: middle;\n",
              "    }\n",
              "\n",
              "    .dataframe tbody tr th {\n",
              "        vertical-align: top;\n",
              "    }\n",
              "\n",
              "    .dataframe thead th {\n",
              "        text-align: right;\n",
              "    }\n",
              "</style>\n",
              "<table border=\"1\" class=\"dataframe\">\n",
              "  <thead>\n",
              "    <tr style=\"text-align: right;\">\n",
              "      <th></th>\n",
              "      <th>Region</th>\n",
              "      <th>Country</th>\n",
              "      <th>Item Type</th>\n",
              "      <th>Sales Channel</th>\n",
              "      <th>Order Priority</th>\n",
              "      <th>Order Date</th>\n",
              "      <th>Order ID</th>\n",
              "      <th>Ship Date</th>\n",
              "      <th>Units Sold</th>\n",
              "      <th>Unit Price</th>\n",
              "      <th>Unit Cost</th>\n",
              "      <th>Total Revenue</th>\n",
              "      <th>Total Cost</th>\n",
              "      <th>Total Profit</th>\n",
              "    </tr>\n",
              "  </thead>\n",
              "  <tbody>\n",
              "    <tr>\n",
              "      <th>0</th>\n",
              "      <td>Australia and Oceania</td>\n",
              "      <td>Tuvalu</td>\n",
              "      <td>Baby Food</td>\n",
              "      <td>Offline</td>\n",
              "      <td>H</td>\n",
              "      <td>5/28/2010</td>\n",
              "      <td>669165933</td>\n",
              "      <td>6/27/2010</td>\n",
              "      <td>9925</td>\n",
              "      <td>255.28</td>\n",
              "      <td>159.42</td>\n",
              "      <td>2533654.00</td>\n",
              "      <td>1582243.50</td>\n",
              "      <td>951410.50</td>\n",
              "    </tr>\n",
              "    <tr>\n",
              "      <th>1</th>\n",
              "      <td>Central America and the Caribbean</td>\n",
              "      <td>Grenada</td>\n",
              "      <td>Cereal</td>\n",
              "      <td>Online</td>\n",
              "      <td>C</td>\n",
              "      <td>8/22/2012</td>\n",
              "      <td>963881480</td>\n",
              "      <td>9/15/2012</td>\n",
              "      <td>2804</td>\n",
              "      <td>205.70</td>\n",
              "      <td>117.11</td>\n",
              "      <td>576782.80</td>\n",
              "      <td>328376.44</td>\n",
              "      <td>248406.36</td>\n",
              "    </tr>\n",
              "    <tr>\n",
              "      <th>2</th>\n",
              "      <td>Europe</td>\n",
              "      <td>Russia</td>\n",
              "      <td>Office Supplies</td>\n",
              "      <td>Offline</td>\n",
              "      <td>L</td>\n",
              "      <td>5/2/2014</td>\n",
              "      <td>341417157</td>\n",
              "      <td>5/8/2014</td>\n",
              "      <td>1779</td>\n",
              "      <td>651.21</td>\n",
              "      <td>524.96</td>\n",
              "      <td>1158502.59</td>\n",
              "      <td>933903.84</td>\n",
              "      <td>224598.75</td>\n",
              "    </tr>\n",
              "    <tr>\n",
              "      <th>3</th>\n",
              "      <td>Sub-Saharan Africa</td>\n",
              "      <td>Sao Tome and Principe</td>\n",
              "      <td>Fruits</td>\n",
              "      <td>Online</td>\n",
              "      <td>C</td>\n",
              "      <td>6/20/2014</td>\n",
              "      <td>514321792</td>\n",
              "      <td>7/5/2014</td>\n",
              "      <td>8102</td>\n",
              "      <td>9.33</td>\n",
              "      <td>6.92</td>\n",
              "      <td>75591.66</td>\n",
              "      <td>56065.84</td>\n",
              "      <td>19525.82</td>\n",
              "    </tr>\n",
              "    <tr>\n",
              "      <th>4</th>\n",
              "      <td>Sub-Saharan Africa</td>\n",
              "      <td>Rwanda</td>\n",
              "      <td>Office Supplies</td>\n",
              "      <td>Offline</td>\n",
              "      <td>L</td>\n",
              "      <td>2/1/2013</td>\n",
              "      <td>115456712</td>\n",
              "      <td>2/6/2013</td>\n",
              "      <td>5062</td>\n",
              "      <td>651.21</td>\n",
              "      <td>524.96</td>\n",
              "      <td>3296425.02</td>\n",
              "      <td>2657347.52</td>\n",
              "      <td>639077.50</td>\n",
              "    </tr>\n",
              "  </tbody>\n",
              "</table>\n",
              "</div>\n",
              "    <div class=\"colab-df-buttons\">\n",
              "\n",
              "  <div class=\"colab-df-container\">\n",
              "    <button class=\"colab-df-convert\" onclick=\"convertToInteractive('df-9017e779-0e74-4d49-a80d-9df6fda33251')\"\n",
              "            title=\"Convert this dataframe to an interactive table.\"\n",
              "            style=\"display:none;\">\n",
              "\n",
              "  <svg xmlns=\"http://www.w3.org/2000/svg\" height=\"24px\" viewBox=\"0 -960 960 960\">\n",
              "    <path d=\"M120-120v-720h720v720H120Zm60-500h600v-160H180v160Zm220 220h160v-160H400v160Zm0 220h160v-160H400v160ZM180-400h160v-160H180v160Zm440 0h160v-160H620v160ZM180-180h160v-160H180v160Zm440 0h160v-160H620v160Z\"/>\n",
              "  </svg>\n",
              "    </button>\n",
              "\n",
              "  <style>\n",
              "    .colab-df-container {\n",
              "      display:flex;\n",
              "      gap: 12px;\n",
              "    }\n",
              "\n",
              "    .colab-df-convert {\n",
              "      background-color: #E8F0FE;\n",
              "      border: none;\n",
              "      border-radius: 50%;\n",
              "      cursor: pointer;\n",
              "      display: none;\n",
              "      fill: #1967D2;\n",
              "      height: 32px;\n",
              "      padding: 0 0 0 0;\n",
              "      width: 32px;\n",
              "    }\n",
              "\n",
              "    .colab-df-convert:hover {\n",
              "      background-color: #E2EBFA;\n",
              "      box-shadow: 0px 1px 2px rgba(60, 64, 67, 0.3), 0px 1px 3px 1px rgba(60, 64, 67, 0.15);\n",
              "      fill: #174EA6;\n",
              "    }\n",
              "\n",
              "    .colab-df-buttons div {\n",
              "      margin-bottom: 4px;\n",
              "    }\n",
              "\n",
              "    [theme=dark] .colab-df-convert {\n",
              "      background-color: #3B4455;\n",
              "      fill: #D2E3FC;\n",
              "    }\n",
              "\n",
              "    [theme=dark] .colab-df-convert:hover {\n",
              "      background-color: #434B5C;\n",
              "      box-shadow: 0px 1px 3px 1px rgba(0, 0, 0, 0.15);\n",
              "      filter: drop-shadow(0px 1px 2px rgba(0, 0, 0, 0.3));\n",
              "      fill: #FFFFFF;\n",
              "    }\n",
              "  </style>\n",
              "\n",
              "    <script>\n",
              "      const buttonEl =\n",
              "        document.querySelector('#df-9017e779-0e74-4d49-a80d-9df6fda33251 button.colab-df-convert');\n",
              "      buttonEl.style.display =\n",
              "        google.colab.kernel.accessAllowed ? 'block' : 'none';\n",
              "\n",
              "      async function convertToInteractive(key) {\n",
              "        const element = document.querySelector('#df-9017e779-0e74-4d49-a80d-9df6fda33251');\n",
              "        const dataTable =\n",
              "          await google.colab.kernel.invokeFunction('convertToInteractive',\n",
              "                                                    [key], {});\n",
              "        if (!dataTable) return;\n",
              "\n",
              "        const docLinkHtml = 'Like what you see? Visit the ' +\n",
              "          '<a target=\"_blank\" href=https://colab.research.google.com/notebooks/data_table.ipynb>data table notebook</a>'\n",
              "          + ' to learn more about interactive tables.';\n",
              "        element.innerHTML = '';\n",
              "        dataTable['output_type'] = 'display_data';\n",
              "        await google.colab.output.renderOutput(dataTable, element);\n",
              "        const docLink = document.createElement('div');\n",
              "        docLink.innerHTML = docLinkHtml;\n",
              "        element.appendChild(docLink);\n",
              "      }\n",
              "    </script>\n",
              "  </div>\n",
              "\n",
              "\n",
              "<div id=\"df-04e1800c-28d0-44dc-96c9-7bef9bd28aed\">\n",
              "  <button class=\"colab-df-quickchart\" onclick=\"quickchart('df-04e1800c-28d0-44dc-96c9-7bef9bd28aed')\"\n",
              "            title=\"Suggest charts\"\n",
              "            style=\"display:none;\">\n",
              "\n",
              "<svg xmlns=\"http://www.w3.org/2000/svg\" height=\"24px\"viewBox=\"0 0 24 24\"\n",
              "     width=\"24px\">\n",
              "    <g>\n",
              "        <path d=\"M19 3H5c-1.1 0-2 .9-2 2v14c0 1.1.9 2 2 2h14c1.1 0 2-.9 2-2V5c0-1.1-.9-2-2-2zM9 17H7v-7h2v7zm4 0h-2V7h2v10zm4 0h-2v-4h2v4z\"/>\n",
              "    </g>\n",
              "</svg>\n",
              "  </button>\n",
              "\n",
              "<style>\n",
              "  .colab-df-quickchart {\n",
              "      --bg-color: #E8F0FE;\n",
              "      --fill-color: #1967D2;\n",
              "      --hover-bg-color: #E2EBFA;\n",
              "      --hover-fill-color: #174EA6;\n",
              "      --disabled-fill-color: #AAA;\n",
              "      --disabled-bg-color: #DDD;\n",
              "  }\n",
              "\n",
              "  [theme=dark] .colab-df-quickchart {\n",
              "      --bg-color: #3B4455;\n",
              "      --fill-color: #D2E3FC;\n",
              "      --hover-bg-color: #434B5C;\n",
              "      --hover-fill-color: #FFFFFF;\n",
              "      --disabled-bg-color: #3B4455;\n",
              "      --disabled-fill-color: #666;\n",
              "  }\n",
              "\n",
              "  .colab-df-quickchart {\n",
              "    background-color: var(--bg-color);\n",
              "    border: none;\n",
              "    border-radius: 50%;\n",
              "    cursor: pointer;\n",
              "    display: none;\n",
              "    fill: var(--fill-color);\n",
              "    height: 32px;\n",
              "    padding: 0;\n",
              "    width: 32px;\n",
              "  }\n",
              "\n",
              "  .colab-df-quickchart:hover {\n",
              "    background-color: var(--hover-bg-color);\n",
              "    box-shadow: 0 1px 2px rgba(60, 64, 67, 0.3), 0 1px 3px 1px rgba(60, 64, 67, 0.15);\n",
              "    fill: var(--button-hover-fill-color);\n",
              "  }\n",
              "\n",
              "  .colab-df-quickchart-complete:disabled,\n",
              "  .colab-df-quickchart-complete:disabled:hover {\n",
              "    background-color: var(--disabled-bg-color);\n",
              "    fill: var(--disabled-fill-color);\n",
              "    box-shadow: none;\n",
              "  }\n",
              "\n",
              "  .colab-df-spinner {\n",
              "    border: 2px solid var(--fill-color);\n",
              "    border-color: transparent;\n",
              "    border-bottom-color: var(--fill-color);\n",
              "    animation:\n",
              "      spin 1s steps(1) infinite;\n",
              "  }\n",
              "\n",
              "  @keyframes spin {\n",
              "    0% {\n",
              "      border-color: transparent;\n",
              "      border-bottom-color: var(--fill-color);\n",
              "      border-left-color: var(--fill-color);\n",
              "    }\n",
              "    20% {\n",
              "      border-color: transparent;\n",
              "      border-left-color: var(--fill-color);\n",
              "      border-top-color: var(--fill-color);\n",
              "    }\n",
              "    30% {\n",
              "      border-color: transparent;\n",
              "      border-left-color: var(--fill-color);\n",
              "      border-top-color: var(--fill-color);\n",
              "      border-right-color: var(--fill-color);\n",
              "    }\n",
              "    40% {\n",
              "      border-color: transparent;\n",
              "      border-right-color: var(--fill-color);\n",
              "      border-top-color: var(--fill-color);\n",
              "    }\n",
              "    60% {\n",
              "      border-color: transparent;\n",
              "      border-right-color: var(--fill-color);\n",
              "    }\n",
              "    80% {\n",
              "      border-color: transparent;\n",
              "      border-right-color: var(--fill-color);\n",
              "      border-bottom-color: var(--fill-color);\n",
              "    }\n",
              "    90% {\n",
              "      border-color: transparent;\n",
              "      border-bottom-color: var(--fill-color);\n",
              "    }\n",
              "  }\n",
              "</style>\n",
              "\n",
              "  <script>\n",
              "    async function quickchart(key) {\n",
              "      const quickchartButtonEl =\n",
              "        document.querySelector('#' + key + ' button');\n",
              "      quickchartButtonEl.disabled = true;  // To prevent multiple clicks.\n",
              "      quickchartButtonEl.classList.add('colab-df-spinner');\n",
              "      try {\n",
              "        const charts = await google.colab.kernel.invokeFunction(\n",
              "            'suggestCharts', [key], {});\n",
              "      } catch (error) {\n",
              "        console.error('Error during call to suggestCharts:', error);\n",
              "      }\n",
              "      quickchartButtonEl.classList.remove('colab-df-spinner');\n",
              "      quickchartButtonEl.classList.add('colab-df-quickchart-complete');\n",
              "    }\n",
              "    (() => {\n",
              "      let quickchartButtonEl =\n",
              "        document.querySelector('#df-04e1800c-28d0-44dc-96c9-7bef9bd28aed button');\n",
              "      quickchartButtonEl.style.display =\n",
              "        google.colab.kernel.accessAllowed ? 'block' : 'none';\n",
              "    })();\n",
              "  </script>\n",
              "</div>\n",
              "\n",
              "    </div>\n",
              "  </div>\n"
            ],
            "application/vnd.google.colaboratory.intrinsic+json": {
              "type": "dataframe",
              "variable_name": "data",
              "summary": "{\n  \"name\": \"data\",\n  \"rows\": 100,\n  \"fields\": [\n    {\n      \"column\": \"Region\",\n      \"properties\": {\n        \"dtype\": \"category\",\n        \"num_unique_values\": 7,\n        \"samples\": [\n          \"Australia and Oceania\",\n          \"Central America and the Caribbean\",\n          \"Middle East and North Africa\"\n        ],\n        \"semantic_type\": \"\",\n        \"description\": \"\"\n      }\n    },\n    {\n      \"column\": \"Country\",\n      \"properties\": {\n        \"dtype\": \"string\",\n        \"num_unique_values\": 76,\n        \"samples\": [\n          \"Rwanda\",\n          \"Brunei\",\n          \"Kyrgyzstan\"\n        ],\n        \"semantic_type\": \"\",\n        \"description\": \"\"\n      }\n    },\n    {\n      \"column\": \"Item Type\",\n      \"properties\": {\n        \"dtype\": \"category\",\n        \"num_unique_values\": 12,\n        \"samples\": [\n          \"Meat\",\n          \"Beverages\",\n          \"Baby Food\"\n        ],\n        \"semantic_type\": \"\",\n        \"description\": \"\"\n      }\n    },\n    {\n      \"column\": \"Sales Channel\",\n      \"properties\": {\n        \"dtype\": \"category\",\n        \"num_unique_values\": 2,\n        \"samples\": [\n          \"Online\",\n          \"Offline\"\n        ],\n        \"semantic_type\": \"\",\n        \"description\": \"\"\n      }\n    },\n    {\n      \"column\": \"Order Priority\",\n      \"properties\": {\n        \"dtype\": \"category\",\n        \"num_unique_values\": 4,\n        \"samples\": [\n          \"C\",\n          \"M\"\n        ],\n        \"semantic_type\": \"\",\n        \"description\": \"\"\n      }\n    },\n    {\n      \"column\": \"Order Date\",\n      \"properties\": {\n        \"dtype\": \"object\",\n        \"num_unique_values\": 100,\n        \"samples\": [\n          \"1/4/2011\",\n          \"11/26/2011\"\n        ],\n        \"semantic_type\": \"\",\n        \"description\": \"\"\n      }\n    },\n    {\n      \"column\": \"Order ID\",\n      \"properties\": {\n        \"dtype\": \"number\",\n        \"std\": 260615257,\n        \"min\": 114606559,\n        \"max\": 994022214,\n        \"num_unique_values\": 100,\n        \"samples\": [\n          122583663,\n          441888415\n        ],\n        \"semantic_type\": \"\",\n        \"description\": \"\"\n      }\n    },\n    {\n      \"column\": \"Ship Date\",\n      \"properties\": {\n        \"dtype\": \"object\",\n        \"num_unique_values\": 99,\n        \"samples\": [\n          \"11/15/2011\",\n          \"3/28/2017\"\n        ],\n        \"semantic_type\": \"\",\n        \"description\": \"\"\n      }\n    },\n    {\n      \"column\": \"Units Sold\",\n      \"properties\": {\n        \"dtype\": \"number\",\n        \"std\": 2794,\n        \"min\": 124,\n        \"max\": 9925,\n        \"num_unique_values\": 99,\n        \"samples\": [\n          5518,\n          3015\n        ],\n        \"semantic_type\": \"\",\n        \"description\": \"\"\n      }\n    },\n    {\n      \"column\": \"Unit Price\",\n      \"properties\": {\n        \"dtype\": \"number\",\n        \"std\": 235.59224058433134,\n        \"min\": 9.33,\n        \"max\": 668.27,\n        \"num_unique_values\": 12,\n        \"samples\": [\n          421.89,\n          47.45\n        ],\n        \"semantic_type\": \"\",\n        \"description\": \"\"\n      }\n    },\n    {\n      \"column\": \"Unit Cost\",\n      \"properties\": {\n        \"dtype\": \"number\",\n        \"std\": 188.2081812485549,\n        \"min\": 6.92,\n        \"max\": 524.96,\n        \"num_unique_values\": 12,\n        \"samples\": [\n          364.69,\n          31.79\n        ],\n        \"semantic_type\": \"\",\n        \"description\": \"\"\n      }\n    },\n    {\n      \"column\": \"Total Revenue\",\n      \"properties\": {\n        \"dtype\": \"number\",\n        \"std\": 1460028.7068235008,\n        \"min\": 4870.26,\n        \"max\": 5997054.98,\n        \"num_unique_values\": 100,\n        \"samples\": [\n          623289.3,\n          2251232.97\n        ],\n        \"semantic_type\": \"\",\n        \"description\": \"\"\n      }\n    },\n    {\n      \"column\": \"Total Cost\",\n      \"properties\": {\n        \"dtype\": \"number\",\n        \"std\": 1083938.2521883622,\n        \"min\": 3612.24,\n        \"max\": 4509793.96,\n        \"num_unique_values\": 100,\n        \"samples\": [\n          398042.4,\n          1814786.72\n        ],\n        \"semantic_type\": \"\",\n        \"description\": \"\"\n      }\n    },\n    {\n      \"column\": \"Total Profit\",\n      \"properties\": {\n        \"dtype\": \"number\",\n        \"std\": 438537.90705963754,\n        \"min\": 1258.02,\n        \"max\": 1719922.04,\n        \"num_unique_values\": 100,\n        \"samples\": [\n          225246.9,\n          436446.25\n        ],\n        \"semantic_type\": \"\",\n        \"description\": \"\"\n      }\n    }\n  ]\n}"
            }
          },
          "metadata": {},
          "execution_count": 6
        }
      ]
    },
    {
      "cell_type": "markdown",
      "source": [
        "# Analyze Sales Trends"
      ],
      "metadata": {
        "id": "Q05lkBoorZzY"
      }
    },
    {
      "cell_type": "code",
      "source": [
        "Sales_Trends = data[['Order Date', 'Year', 'Month', 'Total Sales']]\n"
      ],
      "metadata": {
        "id": "qRyKVvY85vBL"
      },
      "execution_count": null,
      "outputs": []
    },
    {
      "cell_type": "code",
      "source": [
        "Sales_Trends.head(15)"
      ],
      "metadata": {
        "colab": {
          "base_uri": "https://localhost:8080/",
          "height": 519
        },
        "id": "bHEoLmro516B",
        "outputId": "bd8d15da-d815-4f06-9551-352e3acc6511"
      },
      "execution_count": null,
      "outputs": [
        {
          "output_type": "execute_result",
          "data": {
            "text/plain": [
              "   Order Date  Year  Month  Total Sales\n",
              "0  2010-05-28  2010      5   2533654.00\n",
              "1  2012-08-22  2012      8    576782.80\n",
              "2  2014-05-02  2014      5   1158502.59\n",
              "3  2014-06-20  2014      6     75591.66\n",
              "4  2013-02-01  2013      2   3296425.02\n",
              "5  2015-02-04  2015      2    759202.72\n",
              "6  2011-04-23  2011      4   2798046.49\n",
              "7  2012-07-17  2012      7   1245112.92\n",
              "8  2015-07-14  2015      7    496101.10\n",
              "9  2014-04-18  2014      4   1356180.10\n",
              "10 2011-06-24  2011      6     19103.44\n",
              "11 2014-08-02  2014      8    455479.04\n",
              "12 2017-01-13  2017      1    902980.64\n",
              "13 2017-02-08  2017      2   5997054.98\n",
              "14 2014-02-19  2014      2    400558.73"
            ],
            "text/html": [
              "\n",
              "  <div id=\"df-f1b1a12e-b198-43ca-ae1b-b2237499990f\" class=\"colab-df-container\">\n",
              "    <div>\n",
              "<style scoped>\n",
              "    .dataframe tbody tr th:only-of-type {\n",
              "        vertical-align: middle;\n",
              "    }\n",
              "\n",
              "    .dataframe tbody tr th {\n",
              "        vertical-align: top;\n",
              "    }\n",
              "\n",
              "    .dataframe thead th {\n",
              "        text-align: right;\n",
              "    }\n",
              "</style>\n",
              "<table border=\"1\" class=\"dataframe\">\n",
              "  <thead>\n",
              "    <tr style=\"text-align: right;\">\n",
              "      <th></th>\n",
              "      <th>Order Date</th>\n",
              "      <th>Year</th>\n",
              "      <th>Month</th>\n",
              "      <th>Total Sales</th>\n",
              "    </tr>\n",
              "  </thead>\n",
              "  <tbody>\n",
              "    <tr>\n",
              "      <th>0</th>\n",
              "      <td>2010-05-28</td>\n",
              "      <td>2010</td>\n",
              "      <td>5</td>\n",
              "      <td>2533654.00</td>\n",
              "    </tr>\n",
              "    <tr>\n",
              "      <th>1</th>\n",
              "      <td>2012-08-22</td>\n",
              "      <td>2012</td>\n",
              "      <td>8</td>\n",
              "      <td>576782.80</td>\n",
              "    </tr>\n",
              "    <tr>\n",
              "      <th>2</th>\n",
              "      <td>2014-05-02</td>\n",
              "      <td>2014</td>\n",
              "      <td>5</td>\n",
              "      <td>1158502.59</td>\n",
              "    </tr>\n",
              "    <tr>\n",
              "      <th>3</th>\n",
              "      <td>2014-06-20</td>\n",
              "      <td>2014</td>\n",
              "      <td>6</td>\n",
              "      <td>75591.66</td>\n",
              "    </tr>\n",
              "    <tr>\n",
              "      <th>4</th>\n",
              "      <td>2013-02-01</td>\n",
              "      <td>2013</td>\n",
              "      <td>2</td>\n",
              "      <td>3296425.02</td>\n",
              "    </tr>\n",
              "    <tr>\n",
              "      <th>5</th>\n",
              "      <td>2015-02-04</td>\n",
              "      <td>2015</td>\n",
              "      <td>2</td>\n",
              "      <td>759202.72</td>\n",
              "    </tr>\n",
              "    <tr>\n",
              "      <th>6</th>\n",
              "      <td>2011-04-23</td>\n",
              "      <td>2011</td>\n",
              "      <td>4</td>\n",
              "      <td>2798046.49</td>\n",
              "    </tr>\n",
              "    <tr>\n",
              "      <th>7</th>\n",
              "      <td>2012-07-17</td>\n",
              "      <td>2012</td>\n",
              "      <td>7</td>\n",
              "      <td>1245112.92</td>\n",
              "    </tr>\n",
              "    <tr>\n",
              "      <th>8</th>\n",
              "      <td>2015-07-14</td>\n",
              "      <td>2015</td>\n",
              "      <td>7</td>\n",
              "      <td>496101.10</td>\n",
              "    </tr>\n",
              "    <tr>\n",
              "      <th>9</th>\n",
              "      <td>2014-04-18</td>\n",
              "      <td>2014</td>\n",
              "      <td>4</td>\n",
              "      <td>1356180.10</td>\n",
              "    </tr>\n",
              "    <tr>\n",
              "      <th>10</th>\n",
              "      <td>2011-06-24</td>\n",
              "      <td>2011</td>\n",
              "      <td>6</td>\n",
              "      <td>19103.44</td>\n",
              "    </tr>\n",
              "    <tr>\n",
              "      <th>11</th>\n",
              "      <td>2014-08-02</td>\n",
              "      <td>2014</td>\n",
              "      <td>8</td>\n",
              "      <td>455479.04</td>\n",
              "    </tr>\n",
              "    <tr>\n",
              "      <th>12</th>\n",
              "      <td>2017-01-13</td>\n",
              "      <td>2017</td>\n",
              "      <td>1</td>\n",
              "      <td>902980.64</td>\n",
              "    </tr>\n",
              "    <tr>\n",
              "      <th>13</th>\n",
              "      <td>2017-02-08</td>\n",
              "      <td>2017</td>\n",
              "      <td>2</td>\n",
              "      <td>5997054.98</td>\n",
              "    </tr>\n",
              "    <tr>\n",
              "      <th>14</th>\n",
              "      <td>2014-02-19</td>\n",
              "      <td>2014</td>\n",
              "      <td>2</td>\n",
              "      <td>400558.73</td>\n",
              "    </tr>\n",
              "  </tbody>\n",
              "</table>\n",
              "</div>\n",
              "    <div class=\"colab-df-buttons\">\n",
              "\n",
              "  <div class=\"colab-df-container\">\n",
              "    <button class=\"colab-df-convert\" onclick=\"convertToInteractive('df-f1b1a12e-b198-43ca-ae1b-b2237499990f')\"\n",
              "            title=\"Convert this dataframe to an interactive table.\"\n",
              "            style=\"display:none;\">\n",
              "\n",
              "  <svg xmlns=\"http://www.w3.org/2000/svg\" height=\"24px\" viewBox=\"0 -960 960 960\">\n",
              "    <path d=\"M120-120v-720h720v720H120Zm60-500h600v-160H180v160Zm220 220h160v-160H400v160Zm0 220h160v-160H400v160ZM180-400h160v-160H180v160Zm440 0h160v-160H620v160ZM180-180h160v-160H180v160Zm440 0h160v-160H620v160Z\"/>\n",
              "  </svg>\n",
              "    </button>\n",
              "\n",
              "  <style>\n",
              "    .colab-df-container {\n",
              "      display:flex;\n",
              "      gap: 12px;\n",
              "    }\n",
              "\n",
              "    .colab-df-convert {\n",
              "      background-color: #E8F0FE;\n",
              "      border: none;\n",
              "      border-radius: 50%;\n",
              "      cursor: pointer;\n",
              "      display: none;\n",
              "      fill: #1967D2;\n",
              "      height: 32px;\n",
              "      padding: 0 0 0 0;\n",
              "      width: 32px;\n",
              "    }\n",
              "\n",
              "    .colab-df-convert:hover {\n",
              "      background-color: #E2EBFA;\n",
              "      box-shadow: 0px 1px 2px rgba(60, 64, 67, 0.3), 0px 1px 3px 1px rgba(60, 64, 67, 0.15);\n",
              "      fill: #174EA6;\n",
              "    }\n",
              "\n",
              "    .colab-df-buttons div {\n",
              "      margin-bottom: 4px;\n",
              "    }\n",
              "\n",
              "    [theme=dark] .colab-df-convert {\n",
              "      background-color: #3B4455;\n",
              "      fill: #D2E3FC;\n",
              "    }\n",
              "\n",
              "    [theme=dark] .colab-df-convert:hover {\n",
              "      background-color: #434B5C;\n",
              "      box-shadow: 0px 1px 3px 1px rgba(0, 0, 0, 0.15);\n",
              "      filter: drop-shadow(0px 1px 2px rgba(0, 0, 0, 0.3));\n",
              "      fill: #FFFFFF;\n",
              "    }\n",
              "  </style>\n",
              "\n",
              "    <script>\n",
              "      const buttonEl =\n",
              "        document.querySelector('#df-f1b1a12e-b198-43ca-ae1b-b2237499990f button.colab-df-convert');\n",
              "      buttonEl.style.display =\n",
              "        google.colab.kernel.accessAllowed ? 'block' : 'none';\n",
              "\n",
              "      async function convertToInteractive(key) {\n",
              "        const element = document.querySelector('#df-f1b1a12e-b198-43ca-ae1b-b2237499990f');\n",
              "        const dataTable =\n",
              "          await google.colab.kernel.invokeFunction('convertToInteractive',\n",
              "                                                    [key], {});\n",
              "        if (!dataTable) return;\n",
              "\n",
              "        const docLinkHtml = 'Like what you see? Visit the ' +\n",
              "          '<a target=\"_blank\" href=https://colab.research.google.com/notebooks/data_table.ipynb>data table notebook</a>'\n",
              "          + ' to learn more about interactive tables.';\n",
              "        element.innerHTML = '';\n",
              "        dataTable['output_type'] = 'display_data';\n",
              "        await google.colab.output.renderOutput(dataTable, element);\n",
              "        const docLink = document.createElement('div');\n",
              "        docLink.innerHTML = docLinkHtml;\n",
              "        element.appendChild(docLink);\n",
              "      }\n",
              "    </script>\n",
              "  </div>\n",
              "\n",
              "\n",
              "<div id=\"df-cc274029-30ab-4729-b297-ca78dac182ff\">\n",
              "  <button class=\"colab-df-quickchart\" onclick=\"quickchart('df-cc274029-30ab-4729-b297-ca78dac182ff')\"\n",
              "            title=\"Suggest charts\"\n",
              "            style=\"display:none;\">\n",
              "\n",
              "<svg xmlns=\"http://www.w3.org/2000/svg\" height=\"24px\"viewBox=\"0 0 24 24\"\n",
              "     width=\"24px\">\n",
              "    <g>\n",
              "        <path d=\"M19 3H5c-1.1 0-2 .9-2 2v14c0 1.1.9 2 2 2h14c1.1 0 2-.9 2-2V5c0-1.1-.9-2-2-2zM9 17H7v-7h2v7zm4 0h-2V7h2v10zm4 0h-2v-4h2v4z\"/>\n",
              "    </g>\n",
              "</svg>\n",
              "  </button>\n",
              "\n",
              "<style>\n",
              "  .colab-df-quickchart {\n",
              "      --bg-color: #E8F0FE;\n",
              "      --fill-color: #1967D2;\n",
              "      --hover-bg-color: #E2EBFA;\n",
              "      --hover-fill-color: #174EA6;\n",
              "      --disabled-fill-color: #AAA;\n",
              "      --disabled-bg-color: #DDD;\n",
              "  }\n",
              "\n",
              "  [theme=dark] .colab-df-quickchart {\n",
              "      --bg-color: #3B4455;\n",
              "      --fill-color: #D2E3FC;\n",
              "      --hover-bg-color: #434B5C;\n",
              "      --hover-fill-color: #FFFFFF;\n",
              "      --disabled-bg-color: #3B4455;\n",
              "      --disabled-fill-color: #666;\n",
              "  }\n",
              "\n",
              "  .colab-df-quickchart {\n",
              "    background-color: var(--bg-color);\n",
              "    border: none;\n",
              "    border-radius: 50%;\n",
              "    cursor: pointer;\n",
              "    display: none;\n",
              "    fill: var(--fill-color);\n",
              "    height: 32px;\n",
              "    padding: 0;\n",
              "    width: 32px;\n",
              "  }\n",
              "\n",
              "  .colab-df-quickchart:hover {\n",
              "    background-color: var(--hover-bg-color);\n",
              "    box-shadow: 0 1px 2px rgba(60, 64, 67, 0.3), 0 1px 3px 1px rgba(60, 64, 67, 0.15);\n",
              "    fill: var(--button-hover-fill-color);\n",
              "  }\n",
              "\n",
              "  .colab-df-quickchart-complete:disabled,\n",
              "  .colab-df-quickchart-complete:disabled:hover {\n",
              "    background-color: var(--disabled-bg-color);\n",
              "    fill: var(--disabled-fill-color);\n",
              "    box-shadow: none;\n",
              "  }\n",
              "\n",
              "  .colab-df-spinner {\n",
              "    border: 2px solid var(--fill-color);\n",
              "    border-color: transparent;\n",
              "    border-bottom-color: var(--fill-color);\n",
              "    animation:\n",
              "      spin 1s steps(1) infinite;\n",
              "  }\n",
              "\n",
              "  @keyframes spin {\n",
              "    0% {\n",
              "      border-color: transparent;\n",
              "      border-bottom-color: var(--fill-color);\n",
              "      border-left-color: var(--fill-color);\n",
              "    }\n",
              "    20% {\n",
              "      border-color: transparent;\n",
              "      border-left-color: var(--fill-color);\n",
              "      border-top-color: var(--fill-color);\n",
              "    }\n",
              "    30% {\n",
              "      border-color: transparent;\n",
              "      border-left-color: var(--fill-color);\n",
              "      border-top-color: var(--fill-color);\n",
              "      border-right-color: var(--fill-color);\n",
              "    }\n",
              "    40% {\n",
              "      border-color: transparent;\n",
              "      border-right-color: var(--fill-color);\n",
              "      border-top-color: var(--fill-color);\n",
              "    }\n",
              "    60% {\n",
              "      border-color: transparent;\n",
              "      border-right-color: var(--fill-color);\n",
              "    }\n",
              "    80% {\n",
              "      border-color: transparent;\n",
              "      border-right-color: var(--fill-color);\n",
              "      border-bottom-color: var(--fill-color);\n",
              "    }\n",
              "    90% {\n",
              "      border-color: transparent;\n",
              "      border-bottom-color: var(--fill-color);\n",
              "    }\n",
              "  }\n",
              "</style>\n",
              "\n",
              "  <script>\n",
              "    async function quickchart(key) {\n",
              "      const quickchartButtonEl =\n",
              "        document.querySelector('#' + key + ' button');\n",
              "      quickchartButtonEl.disabled = true;  // To prevent multiple clicks.\n",
              "      quickchartButtonEl.classList.add('colab-df-spinner');\n",
              "      try {\n",
              "        const charts = await google.colab.kernel.invokeFunction(\n",
              "            'suggestCharts', [key], {});\n",
              "      } catch (error) {\n",
              "        console.error('Error during call to suggestCharts:', error);\n",
              "      }\n",
              "      quickchartButtonEl.classList.remove('colab-df-spinner');\n",
              "      quickchartButtonEl.classList.add('colab-df-quickchart-complete');\n",
              "    }\n",
              "    (() => {\n",
              "      let quickchartButtonEl =\n",
              "        document.querySelector('#df-cc274029-30ab-4729-b297-ca78dac182ff button');\n",
              "      quickchartButtonEl.style.display =\n",
              "        google.colab.kernel.accessAllowed ? 'block' : 'none';\n",
              "    })();\n",
              "  </script>\n",
              "</div>\n",
              "\n",
              "    </div>\n",
              "  </div>\n"
            ],
            "application/vnd.google.colaboratory.intrinsic+json": {
              "type": "dataframe",
              "variable_name": "Sales_Trends",
              "summary": "{\n  \"name\": \"Sales_Trends\",\n  \"rows\": 100,\n  \"fields\": [\n    {\n      \"column\": \"Order Date\",\n      \"properties\": {\n        \"dtype\": \"date\",\n        \"min\": \"2010-02-02 00:00:00\",\n        \"max\": \"2017-05-22 00:00:00\",\n        \"num_unique_values\": 100,\n        \"samples\": [\n          \"2011-01-04 00:00:00\",\n          \"2011-11-26 00:00:00\",\n          \"2013-04-23 00:00:00\"\n        ],\n        \"semantic_type\": \"\",\n        \"description\": \"\"\n      }\n    },\n    {\n      \"column\": \"Year\",\n      \"properties\": {\n        \"dtype\": \"number\",\n        \"std\": 2,\n        \"min\": 2010,\n        \"max\": 2017,\n        \"num_unique_values\": 8,\n        \"samples\": [\n          2012,\n          2011,\n          2010\n        ],\n        \"semantic_type\": \"\",\n        \"description\": \"\"\n      }\n    },\n    {\n      \"column\": \"Month\",\n      \"properties\": {\n        \"dtype\": \"number\",\n        \"std\": 3,\n        \"min\": 1,\n        \"max\": 12,\n        \"num_unique_values\": 12,\n        \"samples\": [\n          10,\n          9,\n          5\n        ],\n        \"semantic_type\": \"\",\n        \"description\": \"\"\n      }\n    },\n    {\n      \"column\": \"Total Sales\",\n      \"properties\": {\n        \"dtype\": \"number\",\n        \"std\": 1460028.7068235008,\n        \"min\": 4870.26,\n        \"max\": 5997054.9799999995,\n        \"num_unique_values\": 100,\n        \"samples\": [\n          623289.3,\n          2251232.97,\n          3262562.1\n        ],\n        \"semantic_type\": \"\",\n        \"description\": \"\"\n      }\n    }\n  ]\n}"
            }
          },
          "metadata": {},
          "execution_count": 45
        }
      ]
    },
    {
      "cell_type": "markdown",
      "source": [
        "# Month-wise Sales Trend"
      ],
      "metadata": {
        "id": "tXQR3I1n6eSA"
      }
    },
    {
      "cell_type": "code",
      "source": [
        "month_wise_sales = Sales_Trends.groupby(['Month'])['Total Sales'].sum()\n",
        "month_wise_sales"
      ],
      "metadata": {
        "colab": {
          "base_uri": "https://localhost:8080/"
        },
        "id": "SiQDmP4C6FXj",
        "outputId": "dc823aea-24c2-40f8-ca7f-b864c3f48ec5"
      },
      "execution_count": null,
      "outputs": [
        {
          "output_type": "execute_result",
          "data": {
            "text/plain": [
              "Month\n",
              "1     10482467.12\n",
              "2     24740517.77\n",
              "3      2274823.87\n",
              "4     16187186.33\n",
              "5     13215739.99\n",
              "6      5230325.77\n",
              "7     15669518.50\n",
              "8      1128164.91\n",
              "9      5314762.56\n",
              "10    15287576.61\n",
              "11    20568222.76\n",
              "12     7249462.12\n",
              "Name: Total Sales, dtype: float64"
            ]
          },
          "metadata": {},
          "execution_count": 55
        }
      ]
    },
    {
      "cell_type": "code",
      "source": [
        "plt.figure(figsize = (10,6))\n",
        "month_wise_sales.plot(kind = 'bar', color = 'purple', edgecolor = 'black')\n",
        "plt.title(\"Month Wise Sales Trends\")\n",
        "plt.xlabel('Months')\n",
        "plt.ylabel('Sales')\n",
        "plt.show()"
      ],
      "metadata": {
        "colab": {
          "base_uri": "https://localhost:8080/",
          "height": 568
        },
        "id": "oKicQtC66hp6",
        "outputId": "ac858238-fb79-4631-ddab-f1829f498b7f"
      },
      "execution_count": null,
      "outputs": [
        {
          "output_type": "display_data",
          "data": {
            "text/plain": [
              "<Figure size 1000x600 with 1 Axes>"
            ],
            "image/png": "[encoded data removed]"
          },
          "metadata": {}
        }
      ]
    },
    {
      "cell_type": "markdown",
      "source": [
        "# YEAR WISE SALES TRENDS"
      ],
      "metadata": {
        "id": "or6JE3WIK1en"
      }
    },
    {
      "cell_type": "code",
      "source": [
        "yearly_sales = Sales_Trends.groupby('Year')['Total Sales'].sum()"
      ],
      "metadata": {
        "id": "yFzTEekFJTEX"
      },
      "execution_count": null,
      "outputs": []
    },
    {
      "cell_type": "code",
      "source": [
        "yearly_sales"
      ],
      "metadata": {
        "colab": {
          "base_uri": "https://localhost:8080/"
        },
        "id": "GVpzBlyvMQ9Y",
        "outputId": "973e5c2f-7f96-4b81-a9bf-b5a0c6393a4b"
      },
      "execution_count": null,
      "outputs": [
        {
          "output_type": "execute_result",
          "data": {
            "text/plain": [
              "Year\n",
              "2010    19186024.92\n",
              "2011    11129166.07\n",
              "2012    31898644.52\n",
              "2013    20330448.66\n",
              "2014    16630214.43\n",
              "2015    12427982.86\n",
              "2016    12372867.22\n",
              "2017    13373419.63\n",
              "Name: Total Sales, dtype: float64"
            ]
          },
          "metadata": {},
          "execution_count": 77
        }
      ]
    },
    {
      "cell_type": "code",
      "source": [
        "plt.figure(figsize = (10,6))\n",
        "yearly_sales.plot(kind = 'bar', color = 'pink', edgecolor = 'black')\n",
        "plt.title(\"Yearly Wise Sales Trends\")\n",
        "plt.xlabel('Year')\n",
        "plt.ylabel('Sales')\n",
        "plt.show()"
      ],
      "metadata": {
        "colab": {
          "base_uri": "https://localhost:8080/",
          "height": 585
        },
        "id": "UI5l-MZZMWbl",
        "outputId": "5042ca54-a4fe-421a-e43c-17b200d3c9fb"
      },
      "execution_count": null,
      "outputs": [
        {
          "output_type": "display_data",
          "data": {
            "text/plain": [
              "<Figure size 1000x600 with 1 Axes>"
            ],
            "image/png": "[encoded data removed]"
          },
          "metadata": {}
        }
      ]
    },
    {
      "cell_type": "markdown",
      "source": [
        "# Yearly_Month_WISE_SALES"
      ],
      "metadata": {
        "id": "pXu7EVp3NjJ9"
      }
    },
    {
      "cell_type": "code",
      "source": [
        "yearly_month_wise = Sales_Trends.groupby(['Year', 'Month'])['Total Sales'].sum()"
      ],
      "metadata": {
        "id": "gByOOIQwNnZN"
      },
      "execution_count": null,
      "outputs": []
    },
    {
      "cell_type": "code",
      "source": [
        "yearly_month_wise"
      ],
      "metadata": {
        "colab": {
          "base_uri": "https://localhost:8080/"
        },
        "id": "LsgsQ-8uPiSL",
        "outputId": "76d1fada-c1d0-4685-81de-55c2dcd60b44"
      },
      "execution_count": null,
      "outputs": [
        {
          "output_type": "execute_result",
          "data": {
            "text/plain": [
              "Year  Month\n",
              "2010  2        3410661.12\n",
              "      5        2587973.26\n",
              "      6        1082418.40\n",
              "      10       6064933.75\n",
              "      11       3458252.00\n",
              "      12       2581786.39\n",
              "2011  1        1042225.35\n",
              "      2         387002.20\n",
              "      4        2798046.49\n",
              "      5         272410.45\n",
              "      6          19103.44\n",
              "      7          97040.64\n",
              "      9         574951.92\n",
              "      11       5938385.58\n",
              "2012  1        1012884.00\n",
              "      2        6707849.42\n",
              "      3         994765.42\n",
              "      4        4556012.38\n",
              "      5        3782781.82\n",
              "      6        2132075.27\n",
              "      7        4445093.92\n",
              "      8         576782.80\n",
              "      9        4648152.72\n",
              "      10       3042246.77\n",
              "2013  2        3296425.02\n",
              "      3         835759.10\n",
              "      4        3262562.10\n",
              "      6        1352867.40\n",
              "      7        8545511.20\n",
              "      8          89623.98\n",
              "      9          71253.21\n",
              "      10       2702770.40\n",
              "      12        173676.25\n",
              "2014  2        1819660.25\n",
              "      4        4510578.10\n",
              "      5        3060338.59\n",
              "      6          75591.66\n",
              "      7         688641.85\n",
              "      8         455479.04\n",
              "      9          20404.71\n",
              "      10       1352370.65\n",
              "      11       4647149.58\n",
              "2015  1        5513227.50\n",
              "      2        2003911.12\n",
              "      4        1059987.26\n",
              "      7        1292409.45\n",
              "      8           6279.09\n",
              "      10       1904138.04\n",
              "      11        648030.40\n",
              "2016  3         197883.40\n",
              "      5         414371.10\n",
              "      6         568269.60\n",
              "      7         600821.44\n",
              "      10        221117.00\n",
              "      11       5876405.20\n",
              "      12       4493999.48\n",
              "2017  1        2914130.27\n",
              "      2        7115008.64\n",
              "      3         246415.95\n",
              "      5        3097864.77\n",
              "Name: Total Sales, dtype: float64"
            ]
          },
          "metadata": {},
          "execution_count": 83
        }
      ]
    },
    {
      "cell_type": "code",
      "source": [
        "sales_2010 = yearly_month_wise[yearly_month_wise.index.get_level_values('Year') == 2010]\n",
        "sales_2011 = yearly_month_wise[yearly_month_wise.index.get_level_values('Year') == 2011]\n",
        "sales_2012 = yearly_month_wise[yearly_month_wise.index.get_level_values('Year') == 2012]\n",
        "sales_2013 = yearly_month_wise[yearly_month_wise.index.get_level_values('Year') == 2013]\n",
        "sales_2014 = yearly_month_wise[yearly_month_wise.index.get_level_values('Year') == 2014]\n",
        "sales_2015 = yearly_month_wise[yearly_month_wise.index.get_level_values('Year') == 2015]\n",
        "sales_2016 = yearly_month_wise[yearly_month_wise.index.get_level_values('Year') == 2016]\n",
        "sales_2017 = yearly_month_wise[yearly_month_wise.index.get_level_values('Year') == 2017]\n"
      ],
      "metadata": {
        "id": "iGaZPwJFQAo_"
      },
      "execution_count": null,
      "outputs": []
    },
    {
      "cell_type": "code",
      "source": [
        "sales_2011"
      ],
      "metadata": {
        "colab": {
          "base_uri": "https://localhost:8080/"
        },
        "id": "aS47eUiBTKTs",
        "outputId": "38ae6fb8-2355-43b9-a5c1-a78926e10d65"
      },
      "execution_count": null,
      "outputs": [
        {
          "output_type": "execute_result",
          "data": {
            "text/plain": [
              "Year  Month\n",
              "2011  1        1042225.35\n",
              "      2         387002.20\n",
              "      4        2798046.49\n",
              "      5         272410.45\n",
              "      6          19103.44\n",
              "      7          97040.64\n",
              "      9         574951.92\n",
              "      11       5938385.58\n",
              "Name: Total Sales, dtype: float64"
            ]
          },
          "metadata": {},
          "execution_count": 104
        }
      ]
    },
    {
      "cell_type": "code",
      "source": [
        "plt.figure(figsize=(20, 10))\n",
        "\n",
        "plt.subplot(2,4,1)\n",
        "plt.bar(sales_2010.index.get_level_values('Month'), sales_2010, color = 'red')\n",
        "plt.title('Monthly Sales for the Year 2010')\n",
        "plt.xlabel('Month')\n",
        "plt.ylabel('Sales')\n",
        "\n",
        "plt.subplot(2,4,2)\n",
        "plt.bar(sales_2011.index.get_level_values('Month'), sales_2011, color = 'green')\n",
        "plt.title('Monthly Sales for the Year 2011')\n",
        "plt.xlabel('Month')\n",
        "plt.ylabel('Sales')\n",
        "\n",
        "plt.subplot(2,4,3)\n",
        "plt.bar(sales_2012.index.get_level_values('Month'), sales_2012, color = 'blue')\n",
        "plt.title('Monthly Sales for the Year 2012')\n",
        "plt.xlabel('Month')\n",
        "plt.ylabel('Sales')\n",
        "\n",
        "plt.subplot(2,4,4)\n",
        "plt.bar(sales_2013.index.get_level_values('Month'), sales_2013, color = 'yellow')\n",
        "plt.title('Monthly Sales for the Year 2013')\n",
        "plt.xlabel('Month')\n",
        "plt.ylabel('Sales')\n",
        "\n",
        "plt.subplot(2,4,5)\n",
        "plt.bar(sales_2014.index.get_level_values('Month'), sales_2014, color = 'brown')\n",
        "plt.title('Monthly Sales for the Year 2014')\n",
        "plt.xlabel('Month')\n",
        "plt.ylabel('Sales')\n",
        "\n",
        "plt.subplot(2,4,6)\n",
        "plt.bar(sales_2015.index.get_level_values('Month'), sales_2015, color = 'pink')\n",
        "plt.title('Monthly Sales for the Year 2015')\n",
        "plt.xlabel('Month')\n",
        "plt.ylabel('Sales')\n",
        "\n",
        "plt.subplot(2,4,7)\n",
        "plt.bar(sales_2016.index.get_level_values('Month'), sales_2016, color = 'purple')\n",
        "plt.title('Monthly Sales for the Year 2016')\n",
        "plt.xlabel('Month')\n",
        "plt.ylabel('Sales')\n",
        "\n",
        "plt.subplot(2,4,8)\n",
        "plt.bar(sales_2017.index.get_level_values('Month'), sales_2017, color = 'black')\n",
        "plt.title('Monthly Sales for the Year 2017')\n",
        "plt.xlabel('Month')\n",
        "plt.ylabel('Sales')\n",
        "\n",
        "\n",
        "plt.tight_layout(pad=3.0)\n",
        "plt.show()"
      ],
      "metadata": {
        "colab": {
          "base_uri": "https://localhost:8080/",
          "height": 973
        },
        "id": "-cpD-pTqSJEp",
        "outputId": "2025ff2f-d7da-4dbd-a7cd-b12f75b19502"
      },
      "execution_count": null,
      "outputs": [
        {
          "output_type": "display_data",
          "data": {
            "text/plain": [
              "<Figure size 2000x1000 with 8 Axes>"
            ],
            "image/png": "[encoded data removed]"
          },
          "metadata": {}
        }
      ]
    },
    {
      "cell_type": "markdown",
      "source": [
        "#OBSERVATIONS:\n",
        "**Each graph shows the monthly sales done by every year**"
      ],
      "metadata": {
        "id": "NvnXGaJ3Zia1"
      }
    },
    {
      "cell_type": "markdown",
      "source": [
        "#Visualize the relationships between attributes\n",
        "\n",
        "**We will create the following plots:**\n",
        "\n",
        "* A scatter plot of Units sold and Total Revenue, Unit pric and Total revenue, Unit price and total profit\n",
        "\n",
        "* A count plot of Item Type and channels\n"
      ],
      "metadata": {
        "id": "zlrntxDBaKF-"
      }
    },
    {
      "cell_type": "code",
      "source": [
        "# Relationship between Units sold and Total Revenue\n",
        "\n",
        "plt.figure(figsize=(8, 6))\n",
        "plt.scatter(data['Units Sold'], data['Total Revenue'], color='red', alpha=0.7)\n",
        "plt.xlabel('Units Sold')\n",
        "plt.ylabel('Total Revenue')\n",
        "plt.title('Relationship between Units Sold and Total Revenue')\n",
        "plt.grid(True)\n",
        "plt.tight_layout()\n",
        "plt.show()"
      ],
      "metadata": {
        "colab": {
          "base_uri": "https://localhost:8080/",
          "height": 607
        },
        "id": "xXUT6TINcK1X",
        "outputId": "13e5b575-9ae6-4cb6-ae54-4701d591a94c"
      },
      "execution_count": 22,
      "outputs": [
        {
          "output_type": "display_data",
          "data": {
            "text/plain": [
              "<Figure size 800x600 with 1 Axes>"
            ],
            "image/png": "[encoded data removed]"
          },
          "metadata": {}
        }
      ]
    },
    {
      "cell_type": "markdown",
      "source": [
        "# OBSERVATION\n",
        "* WE OBSERVE THAT THERE IS A RELATIONSHIP BETWEEN UNITS SOLD AND TOTAL REVENUE\n",
        "* AS UNIT SALES INCREASES, REVENUE ALSO INCREASES"
      ],
      "metadata": {
        "id": "DBMY3E0Ld44e"
      }
    },
    {
      "cell_type": "code",
      "source": [
        "# Relationship between Unit price and Total Revenue\n",
        "\n",
        "plt.figure(figsize = (11,6))\n",
        "plt.scatter(data['Unit Price'], data['Total Revenue'], color = 'green', alpha = 0.7)\n",
        "plt.title(\"Relationship between Unit price and Total Revenue\")\n",
        "plt.xlabel('Unit Price')\n",
        "plt.ylabel('Total Revenue')\n",
        "plt.grid(True)\n",
        "plt.tight_layout()\n",
        "plt.show()"
      ],
      "metadata": {
        "colab": {
          "base_uri": "https://localhost:8080/",
          "height": 607
        },
        "id": "Jt-1Ahbleg5D",
        "outputId": "877aae62-c5d1-477a-f8ce-55b42e9048a7"
      },
      "execution_count": 25,
      "outputs": [
        {
          "output_type": "display_data",
          "data": {
            "text/plain": [
              "<Figure size 1100x600 with 1 Axes>"
            ],
            "image/png": "[encoded data removed]"
          },
          "metadata": {}
        }
      ]
    },
    {
      "cell_type": "markdown",
      "source": [
        "# OBSERVATION\n",
        "* We observe that there is a relationship between unit price and total revenue\n",
        "* As per the observation higher unit prices lead to higher total revenue."
      ],
      "metadata": {
        "id": "8pvGt1MAft1c"
      }
    },
    {
      "cell_type": "code",
      "source": [
        "# Relationship between Unit Price and Total Profit\n",
        "\n",
        "plt.figure(figsize = (11,6))\n",
        "plt.scatter(data['Unit Price'], data['Total Profit'], color = 'purple', alpha = 0.7)\n",
        "plt.title(\"Relationship between Unit Price and Total Profit \")\n",
        "plt.xlabel('Unit Price')\n",
        "plt.ylabel('Total Profit')\n",
        "plt.grid(True)\n",
        "plt.tight_layout()\n",
        "plt.show()"
      ],
      "metadata": {
        "colab": {
          "base_uri": "https://localhost:8080/",
          "height": 607
        },
        "id": "gbUUzRoHgpi-",
        "outputId": "5627f925-20fb-4b03-b113-f5b150109b4e"
      },
      "execution_count": 27,
      "outputs": [
        {
          "output_type": "display_data",
          "data": {
            "text/plain": [
              "<Figure size 1100x600 with 1 Axes>"
            ],
            "image/png": "[encoded data removed]"
          },
          "metadata": {}
        }
      ]
    },
    {
      "cell_type": "markdown",
      "source": [
        "# Observations\n",
        "* We observe that there is relationship between Unit Price and total profit\n",
        "* As per the observation unit price increases, the profit also increase\n",
        "* The profit is maximun between 400 and 500 unit price"
      ],
      "metadata": {
        "id": "hpWFv9ALi5il"
      }
    },
    {
      "cell_type": "code",
      "source": [
        "# Count plot of the \"Item Type\" feature\n",
        "\n",
        "plt.figure(figsize = (15,6))\n",
        "colors = sns.color_palette('husl', len(data['Item Type'].unique()))\n",
        "\n",
        "sns.countplot(data = data ,x = 'Item Type', edgecolor = 'linen', alpha = 0.7, palette = colors)\n",
        "\n",
        "plt.title(\"Count Plot of Item Type\")\n",
        "plt.xlabel('Item Type')\n",
        "plt.ylabel('Count')\n",
        "plt.show()"
      ],
      "metadata": {
        "colab": {
          "base_uri": "https://localhost:8080/",
          "height": 655
        },
        "id": "fwLY6Q_HaCRA",
        "outputId": "78f99739-7364-4001-c7ee-c558766319ab"
      },
      "execution_count": null,
      "outputs": [
        {
          "output_type": "stream",
          "name": "stderr",
          "text": [
            "<ipython-input-162-faeee8c361f1>:6: FutureWarning: \n",
            "\n",
            "Passing `palette` without assigning `hue` is deprecated and will be removed in v0.14.0. Assign the `x` variable to `hue` and set `legend=False` for the same effect.\n",
            "\n",
            "  sns.countplot(data = data ,x = 'Item Type', edgecolor = 'linen', alpha = 0.7, palette = colors)\n"
          ]
        },
        {
          "output_type": "display_data",
          "data": {
            "text/plain": [
              "<Figure size 1500x600 with 1 Axes>"
            ],
            "image/png": "[encoded data removed]"
          },
          "metadata": {}
        }
      ]
    },
    {
      "cell_type": "markdown",
      "source": [
        "OBSERVATION :\n",
        "We see that most customers choose clothes or cosmetics, having maximum purchases"
      ],
      "metadata": {
        "id": "MDesucibmAc2"
      }
    },
    {
      "cell_type": "code",
      "source": [
        "# Count plot of channel\n",
        "\n",
        "plt.figure(figsize = (15,6))\n",
        "colors = sns.color_palette('husl', len(data['Item Type'].unique()))\n",
        "\n",
        "sns.countplot(data = data ,x = 'Sales Channel', edgecolor = 'linen', alpha = 0.7, palette = colors)\n",
        "\n",
        "plt.title(\"Count Plot of Sales Channel\")\n",
        "plt.xlabel('Sales Channel')\n",
        "plt.ylabel('Count')\n",
        "plt.show()"
      ],
      "metadata": {
        "colab": {
          "base_uri": "https://localhost:8080/",
          "height": 692
        },
        "id": "FkDcWlB4w7H5",
        "outputId": "8e955b19-8702-458c-dcd8-f6e48fece026"
      },
      "execution_count": null,
      "outputs": [
        {
          "output_type": "stream",
          "name": "stderr",
          "text": [
            "<ipython-input-163-450108320e3f>:6: FutureWarning: \n",
            "\n",
            "Passing `palette` without assigning `hue` is deprecated and will be removed in v0.14.0. Assign the `x` variable to `hue` and set `legend=False` for the same effect.\n",
            "\n",
            "  sns.countplot(data = data ,x = 'Sales Channel', edgecolor = 'linen', alpha = 0.7, palette = colors)\n",
            "<ipython-input-163-450108320e3f>:6: UserWarning: The palette list has more values (12) than needed (2), which may not be intended.\n",
            "  sns.countplot(data = data ,x = 'Sales Channel', edgecolor = 'linen', alpha = 0.7, palette = colors)\n"
          ]
        },
        {
          "output_type": "display_data",
          "data": {
            "text/plain": [
              "<Figure size 1500x600 with 1 Axes>"
            ],
            "image/png": "[encoded data removed]"
          },
          "metadata": {}
        }
      ]
    },
    {
      "cell_type": "markdown",
      "source": [
        "# OBSERVATION\n",
        "WE HAVE SEEN THAT OFFLINE AND ONLINE BOTH ARE EQUALLY DISTRIBUTED"
      ],
      "metadata": {
        "id": "daD3yCrYxzwu"
      }
    },
    {
      "cell_type": "markdown",
      "source": [
        "# CONCLUSION:\n",
        "\n",
        "# The analysis of total revenue by region highlights the importance of understanding regional variations in economic activity and market dynamics for businesses aiming to achieve global or regional growth."
      ],
      "metadata": {
        "id": "5YA-cvUvsgIa"
      }
    }
  ]
}